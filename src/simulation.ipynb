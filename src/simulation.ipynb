{
 "cells": [
  {
   "cell_type": "markdown",
   "metadata": {},
   "source": [
    "# Compiler Benchmark using Quantum Circuit Unoptimization"
   ]
  },
  {
   "cell_type": "markdown",
   "metadata": {},
   "source": [
    "## Contents\n",
    "[1. Import](#1-import)\n",
    "\n",
    "[2. Input circuit](#2-input-circuit)\n",
    "\n",
    "[3. Quantum circuit unoptimization](#3-quantum-circuit-unoptimization)\n",
    "\n",
    "[4. Compiler benchmark](#4-compiler-benchmark)\n",
    "\n",
    "[5. Check depth ratios](#5-check-depth-ratios)"
   ]
  },
  {
   "cell_type": "markdown",
   "metadata": {},
   "source": [
    "### 1. Import"
   ]
  },
  {
   "cell_type": "code",
   "execution_count": 1,
   "metadata": {},
   "outputs": [],
   "source": [
    "from unopt.calc_tool import *\n",
    "from unopt.circuit_ops import *\n",
    "from unopt.decomp import *\n",
    "from unopt.converter import *\n",
    "from unopt.recipe import *\n",
    "from unopt.generator import *\n",
    "from qulacsvis import circuit_drawer\n",
    "from unopt.benchmarking import *"
   ]
  },
  {
   "cell_type": "markdown",
   "metadata": {},
   "source": [
    "### 2. Input circuit"
   ]
  },
  {
   "cell_type": "code",
   "execution_count": 2,
   "metadata": {},
   "outputs": [
    {
     "data": {
      "image/png": "[encoded data removed]",
      "text/plain": [
       "<Figure size 777.6x540 with 1 Axes>"
      ]
     },
     "execution_count": 2,
     "metadata": {},
     "output_type": "execute_result"
    }
   ],
   "source": [
    "nqubits = 6\n",
    "depth = 6\n",
    "k = nqubits ** 2 #unopt_iteration_count\n",
    "circuit_initial = generate_random_qc(nqubits=nqubits, depth=depth)\n",
    "circuit_drawer(circuit_initial,'mpl')"
   ]
  },
  {
   "cell_type": "markdown",
   "metadata": {},
   "source": [
    "### 3. Quantum circuit unoptimization"
   ]
  },
  {
   "cell_type": "code",
   "execution_count": 3,
   "metadata": {},
   "outputs": [
    {
     "name": "stderr",
     "output_type": "stream",
     "text": [
      "                                                               \r"
     ]
    }
   ],
   "source": [
    "circuit_input = circuit_initial.copy()\n",
    "state = operation_to_zero_state(circuit_initial)\n",
    "circuit_unopted = unoptimization(circuit_input, iteration=k, pair_select_method='concatenated')[0]"
   ]
  },
  {
   "cell_type": "markdown",
   "metadata": {},
   "source": [
    "### 4. Compiler benchmark"
   ]
  },
  {
   "cell_type": "code",
   "execution_count": 4,
   "metadata": {},
   "outputs": [],
   "source": [
    "# Qiskit\n",
    "circuit_qiskit_U = qulacs_to_qiskit(circuit_initial)\n",
    "circuit_qiskit_V = qulacs_to_qiskit(circuit_unopted)\n",
    "result_qiskit = qiskit_comp(circuit_qiskit_U,circuit_qiskit_V,state)\n",
    "\n",
    "# Pytket\n",
    "circuit_tket_U = qulacs_to_tket(circuit_initial)\n",
    "circuit_tket_V = qulacs_to_tket(circuit_unopted)\n",
    "result_tket = tket_comp(circuit_tket_U,circuit_tket_V,state)"
   ]
  },
  {
   "cell_type": "markdown",
   "metadata": {},
   "source": [
    "### 5. Check depth ratios"
   ]
  },
  {
   "cell_type": "code",
   "execution_count": 5,
   "metadata": {},
   "outputs": [
    {
     "name": "stdout",
     "output_type": "stream",
     "text": [
      "r_unopt 37.648648648648646\n",
      "r_opt(Qiskit) 37.486486486486484\n"
     ]
    },
    {
     "data": {
      "text/html": [
       "<div>\n",
       "<style scoped>\n",
       "    .dataframe tbody tr th:only-of-type {\n",
       "        vertical-align: middle;\n",
       "    }\n",
       "\n",
       "    .dataframe tbody tr th {\n",
       "        vertical-align: top;\n",
       "    }\n",
       "\n",
       "    .dataframe thead th {\n",
       "        text-align: right;\n",
       "    }\n",
       "</style>\n",
       "<table border=\"1\" class=\"dataframe\">\n",
       "  <thead>\n",
       "    <tr style=\"text-align: right;\">\n",
       "      <th></th>\n",
       "      <th>Depth</th>\n",
       "      <th>Total gates</th>\n",
       "      <th>CNOT gates</th>\n",
       "    </tr>\n",
       "  </thead>\n",
       "  <tbody>\n",
       "    <tr>\n",
       "      <th>qiskit_u_bef_decomp</th>\n",
       "      <td>6</td>\n",
       "      <td>18</td>\n",
       "      <td>{'unitary': 18}</td>\n",
       "    </tr>\n",
       "    <tr>\n",
       "      <th>qiskit_u</th>\n",
       "      <td>37</td>\n",
       "      <td>168</td>\n",
       "      <td>54</td>\n",
       "    </tr>\n",
       "    <tr>\n",
       "      <th>qiskit_v_bef_decomp</th>\n",
       "      <td>435</td>\n",
       "      <td>452</td>\n",
       "      <td>{'unitary': 452}</td>\n",
       "    </tr>\n",
       "    <tr>\n",
       "      <th>qiskit_v</th>\n",
       "      <td>1393</td>\n",
       "      <td>2247</td>\n",
       "      <td>747</td>\n",
       "    </tr>\n",
       "    <tr>\n",
       "      <th>qiskit_v_compiled</th>\n",
       "      <td>1387</td>\n",
       "      <td>2229</td>\n",
       "      <td>741</td>\n",
       "    </tr>\n",
       "  </tbody>\n",
       "</table>\n",
       "</div>"
      ],
      "text/plain": [
       "                    Depth Total gates        CNOT gates\n",
       "qiskit_u_bef_decomp     6          18   {'unitary': 18}\n",
       "qiskit_u               37         168                54\n",
       "qiskit_v_bef_decomp   435         452  {'unitary': 452}\n",
       "qiskit_v             1393        2247               747\n",
       "qiskit_v_compiled    1387        2229               741"
      ]
     },
     "execution_count": 5,
     "metadata": {},
     "output_type": "execute_result"
    }
   ],
   "source": [
    "print('r_unopt',result_qiskit.at['qiskit_v','Depth'] / result_qiskit.at['qiskit_u','Depth'])\n",
    "print('r_opt(Qiskit)',result_qiskit.at['qiskit_v_compiled','Depth'] / result_qiskit.at['qiskit_u','Depth'])\n",
    "result_qiskit"
   ]
  },
  {
   "cell_type": "code",
   "execution_count": 6,
   "metadata": {},
   "outputs": [
    {
     "name": "stdout",
     "output_type": "stream",
     "text": [
      "r_unopt(Pytket) 37.648648648648646\n",
      "r_opt(Pytket) 32.351351351351354\n"
     ]
    },
    {
     "data": {
      "text/html": [
       "<div>\n",
       "<style scoped>\n",
       "    .dataframe tbody tr th:only-of-type {\n",
       "        vertical-align: middle;\n",
       "    }\n",
       "\n",
       "    .dataframe tbody tr th {\n",
       "        vertical-align: top;\n",
       "    }\n",
       "\n",
       "    .dataframe thead th {\n",
       "        text-align: right;\n",
       "    }\n",
       "</style>\n",
       "<table border=\"1\" class=\"dataframe\">\n",
       "  <thead>\n",
       "    <tr style=\"text-align: right;\">\n",
       "      <th></th>\n",
       "      <th>Depth</th>\n",
       "      <th>Total gates</th>\n",
       "      <th>CNOT gates</th>\n",
       "    </tr>\n",
       "  </thead>\n",
       "  <tbody>\n",
       "    <tr>\n",
       "      <th>tket_u_bef_decomp</th>\n",
       "      <td>6</td>\n",
       "      <td>18</td>\n",
       "      <td>0</td>\n",
       "    </tr>\n",
       "    <tr>\n",
       "      <th>tket_u</th>\n",
       "      <td>37</td>\n",
       "      <td>168</td>\n",
       "      <td>54</td>\n",
       "    </tr>\n",
       "    <tr>\n",
       "      <th>tket_v_bef_decomp</th>\n",
       "      <td>435</td>\n",
       "      <td>452</td>\n",
       "      <td>0</td>\n",
       "    </tr>\n",
       "    <tr>\n",
       "      <th>tket_v</th>\n",
       "      <td>1393</td>\n",
       "      <td>2230</td>\n",
       "      <td>747</td>\n",
       "    </tr>\n",
       "    <tr>\n",
       "      <th>tket_v_compiled</th>\n",
       "      <td>1197</td>\n",
       "      <td>1825</td>\n",
       "      <td>672</td>\n",
       "    </tr>\n",
       "  </tbody>\n",
       "</table>\n",
       "</div>"
      ],
      "text/plain": [
       "                   Depth  Total gates  CNOT gates\n",
       "tket_u_bef_decomp      6           18           0\n",
       "tket_u                37          168          54\n",
       "tket_v_bef_decomp    435          452           0\n",
       "tket_v              1393         2230         747\n",
       "tket_v_compiled     1197         1825         672"
      ]
     },
     "execution_count": 6,
     "metadata": {},
     "output_type": "execute_result"
    }
   ],
   "source": [
    "print('r_unopt(Pytket)',result_tket.at['tket_v','Depth'] / result_qiskit.at['qiskit_u','Depth'])\n",
    "print('r_opt(Pytket)',result_tket.at['tket_v_compiled','Depth'] / result_qiskit.at['qiskit_u','Depth'])\n",
    "result_tket"
   ]
  },
  {
   "cell_type": "code",
   "execution_count": null,
   "metadata": {},
   "outputs": [],
   "source": []
  }
 ],
 "metadata": {
  "kernelspec": {
   "display_name": "base",
   "language": "python",
   "name": "python3"
  },
  "language_info": {
   "codemirror_mode": {
    "name": "ipython",
    "version": 3
   },
   "file_extension": ".py",
   "mimetype": "text/x-python",
   "name": "python",
   "nbconvert_exporter": "python",
   "pygments_lexer": "ipython3",
   "version": "3.9.7"
  },
  "orig_nbformat": 4
 },
 "nbformat": 4,
 "nbformat_minor": 2
}
